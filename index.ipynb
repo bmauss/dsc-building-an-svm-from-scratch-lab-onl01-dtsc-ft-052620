{
 "cells": [
  {
   "cell_type": "markdown",
   "metadata": {},
   "source": [
    "# Building an SVM from Scratch - Lab"
   ]
  },
  {
   "cell_type": "markdown",
   "metadata": {},
   "source": [
    "## Introduction"
   ]
  },
  {
   "cell_type": "markdown",
   "metadata": {},
   "source": [
    "In this lab, you'll program a simple Support Vector Machine from scratch!"
   ]
  },
  {
   "cell_type": "markdown",
   "metadata": {},
   "source": [
    "## Objectives"
   ]
  },
  {
   "cell_type": "markdown",
   "metadata": {},
   "source": [
    "In this lab you will: \n",
    "\n",
    "- Build a simple linear max margin classifier from scratch \n",
    "- Build a simple soft margin classifier from scratch"
   ]
  },
  {
   "cell_type": "markdown",
   "metadata": {},
   "source": [
    "## The data"
   ]
  },
  {
   "cell_type": "markdown",
   "metadata": {},
   "source": [
    "Support Vector Machines can be used for any $n$-dimensional feature space. However, for this lab, you'll focus on a more limited 2-dimensional feature space so that you can easily visualize the results.\n",
    "\n",
    "Scikit-learn has an excellent set of dataset generator functions. One of them is `make_blobs()`. Below, you can find the code to create two blobs using the `make_blobs()` function. Afterward, you'll use this data to build your own SVM from scratch! "
   ]
  },
  {
   "cell_type": "code",
   "execution_count": 1,
   "metadata": {
    "ExecuteTime": {
     "end_time": "2021-01-19T20:32:57.504599Z",
     "start_time": "2021-01-19T20:32:48.705055Z"
    }
   },
   "outputs": [
    {
     "data": {
      "image/png": "[encoded data removed]",
      "text/plain": [
       "<Figure size 360x360 with 1 Axes>"
      ]
     },
     "metadata": {
      "needs_background": "light"
     },
     "output_type": "display_data"
    }
   ],
   "source": [
    "from sklearn.datasets import make_blobs\n",
    "import matplotlib.pyplot as plt\n",
    "%matplotlib inline  \n",
    "import numpy as np\n",
    "\n",
    "plt.figure(figsize=(5, 5))\n",
    "\n",
    "plt.title('Two blobs')\n",
    "X, labels = make_blobs(n_features=2, centers=2, cluster_std=1.25,  random_state=123)\n",
    "plt.scatter(X[:, 0], X[:, 1], c=labels, s=25);"
   ]
  },
  {
   "cell_type": "markdown",
   "metadata": {},
   "source": [
    "## Build a Max Margin classifier\n",
    "\n",
    "Since you are aiming to maximize the margin between the decision boundary and the support vectors, creating a support vector machine boils down to solving a convex optimization problem. As such, you can use the Python library `cvxpy` to do so. More information can be found [here](http://www.cvxpy.org/).\n",
    "\n",
    "You may have not used `cvxpy` before, so make sure it is installed on your local computer using `pip install cvxpy`.\n",
    "\n",
    "The four important commands to be used here are:\n",
    "\n",
    "- `cp.Variable()` where you either don't include anything between `()` or, if the variable is an array with multiple elements, the number of elements.\n",
    "- `cp.Minimize()` or `cp.Maximize()`, with the element to be maximized passed in as a paramater.\n",
    "- `cp.Problem(objective, constraints)`, the objective is generally a stored minimization or maximization objective, and the constraints are listed constraints. Constraints can be added by a \"+\" sign. \n",
    "- Next, you should store your `cp.Problem` in an object and use `object.solve()` to solve the optimization problem."
   ]
  },
  {
   "cell_type": "markdown",
   "metadata": {},
   "source": [
    "Recall that we're trying to solve this problem:\n",
    "\n",
    "$ w x^{(i)} + b \\geq 1$  if $y ^{(i)} = 1$\n",
    "\n",
    "$ w x^{(i)} + b \\leq -1$  if $y ^{(i)} = -1$\n",
    "\n",
    "And, the objective function you're maximizing is $\\dfrac{2}{\\lVert w \\rVert}$. To make things easier, you can instead minimize $\\lVert w \\rVert$"
   ]
  },
  {
   "cell_type": "markdown",
   "metadata": {},
   "source": [
    "Note that $y^{(i)}$ is the class label. Take a look at the labels by printing them below."
   ]
  },
  {
   "cell_type": "code",
   "execution_count": 2,
   "metadata": {
    "ExecuteTime": {
     "end_time": "2021-01-19T20:35:07.989222Z",
     "start_time": "2021-01-19T20:35:07.983226Z"
    }
   },
   "outputs": [
    {
     "name": "stdout",
     "output_type": "stream",
     "text": [
      "100\n"
     ]
    },
    {
     "data": {
      "text/plain": [
       "array([0, 0, 0, 1, 0, 1, 0, 0, 1, 0, 1, 1, 0, 0, 1, 0, 0, 1, 1, 0, 0, 1,\n",
       "       1, 0, 1, 0, 1, 0, 0, 0, 0, 0, 0, 1, 0, 0, 0, 1, 1, 0, 1, 0, 1, 1,\n",
       "       1, 1, 0, 0, 1, 0, 0, 0, 1, 1, 1, 0, 0, 1, 1, 1, 0, 0, 1, 1, 1, 1,\n",
       "       0, 1, 0, 1, 1, 0, 0, 1, 0, 1, 0, 1, 0, 1, 1, 0, 1, 1, 0, 0, 1, 1,\n",
       "       1, 0, 1, 1, 0, 0, 1, 1, 0, 1, 1, 0])"
      ]
     },
     "execution_count": 2,
     "metadata": {},
     "output_type": "execute_result"
    }
   ],
   "source": [
    "# Print labels\n",
    "print(len(labels))\n",
    "labels\n"
   ]
  },
  {
   "cell_type": "markdown",
   "metadata": {},
   "source": [
    "Before you start to write down the optimization problem, split the data in the two classes. Name them `class_1` and `class_2`."
   ]
  },
  {
   "cell_type": "code",
   "execution_count": 3,
   "metadata": {
    "ExecuteTime": {
     "end_time": "2020-08-14T16:19:25.633288Z",
     "start_time": "2020-08-14T16:19:25.273652Z"
    }
   },
   "outputs": [],
   "source": [
    "# Assign label 0 to class_1\n",
    "class_1 = X[labels == 0]\n",
    "\n",
    "# Assign label 1 to class_2\n",
    "class_2 = X[labels == 1]"
   ]
  },
  {
   "cell_type": "markdown",
   "metadata": {},
   "source": [
    "Next, you need to find a way to create a hyperplane (in this case, a line) that can maximize the difference between the two classes. \n",
    "Here's a pseudocode outline:\n",
    "- First, `import cvxpy as cp`\n",
    "- Next, define the variables. note that `b` and `w` are variables (What are the dimensions?)\n",
    "- Then, build the constraints (You have two constraints here)\n",
    "- After that, use \"+\" to group the constraints together\n",
    "- The next step is to define the objective function\n",
    "- After that, define the problem using `cp.Problem()`\n",
    "- Solve the problem using `.solve()`\n",
    "- Finally, print the problem status (however you defined the problem, and attach `.status`) "
   ]
  },
  {
   "cell_type": "code",
   "execution_count": 4,
   "metadata": {
    "ExecuteTime": {
     "end_time": "2020-08-14T16:19:26.107392Z",
     "start_time": "2020-08-14T16:19:25.634260Z"
    }
   },
   "outputs": [
    {
     "name": "stdout",
     "output_type": "stream",
     "text": [
      "Problem Status: optimal\n"
     ]
    }
   ],
   "source": [
    "# Import cvxpy\n",
    "import cvxpy as cp\n",
    "d = 2\n",
    "m = 50\n",
    "n = 50\n",
    "# Define the variables\n",
    "b = cp.Variable()\n",
    "w = cp.Variable(d)\n",
    "\n",
    "# Define the constraints\n",
    "x_constraints = [w.T@class_1[i] + b >= 1 for i in range(m)]\n",
    "y_constraints = [w.T@class_2[i] + b <= -1 for i in range(n)]\n",
    "\n",
    "# Sum the constraints\n",
    "constraints = x_constraints + y_constraints\n",
    "\n",
    "# Define the objective. Hint: use cp.norm\n",
    "obj = cp.Minimize(cp.norm(w, 2))\n",
    "\n",
    "# Add objective and constraint in the problem\n",
    "prob = cp.Problem(obj, constraints)\n",
    "\n",
    "# Solve the problem\n",
    "prob.solve()\n",
    "print('Problem Status: %s'%prob.status)"
   ]
  },
  {
   "cell_type": "markdown",
   "metadata": {},
   "source": [
    "Great! Below is a helper function to assist you in plotting the result of your SVM classifier."
   ]
  },
  {
   "cell_type": "code",
   "execution_count": 5,
   "metadata": {
    "ExecuteTime": {
     "end_time": "2020-08-14T16:19:26.119384Z",
     "start_time": "2020-08-14T16:19:26.109388Z"
    }
   },
   "outputs": [],
   "source": [
    "## A helper function for plotting the results, the decision plane, and the supporting planes\n",
    "\n",
    "def plotBoundaries(x, y, w, b):\n",
    "    # Takes in a set of datapoints x and y for two clusters,\n",
    "    d1_min = np.min([x[:,0], y[:,0]])\n",
    "    d1_max = np.max([x[:,0], y[:,0]])\n",
    "    # Line form: (-a[0] * x - b ) / a[1]\n",
    "    d2_at_mind1 = (-w[0]*d1_min - b ) / w[1]\n",
    "    d2_at_maxd1 = (-w[0]*d1_max - b ) / w[1]\n",
    "    sup_up_at_mind1 = (-w[0]*d1_min - b + 1 ) / w[1]\n",
    "    sup_up_at_maxd1 = (-w[0]*d1_max - b + 1 ) / w[1]\n",
    "    sup_dn_at_mind1 = (-w[0]*d1_min - b - 1 ) / w[1]\n",
    "    sup_dn_at_maxd1 = (-w[0]*d1_max - b - 1 ) / w[1]\n",
    "\n",
    "    # Plot the clusters!\n",
    "    plt.scatter(x[:,0], x[:,1], color='purple')\n",
    "    plt.scatter(y[:,0], y[:,1], color='yellow')\n",
    "    plt.plot([d1_min,d1_max], [d2_at_mind1, d2_at_maxd1], color='black')\n",
    "    plt.plot([d1_min,d1_max], [sup_up_at_mind1, sup_up_at_maxd1],'-.', color='blue')\n",
    "    plt.plot([d1_min,d1_max], [sup_dn_at_mind1, sup_dn_at_maxd1],'-.', color='blue')\n",
    "    plt.ylim([np.floor(np.min([x[:,1],y[:,1]])), np.ceil(np.max([x[:,1], y[:,1]]))])"
   ]
  },
  {
   "cell_type": "markdown",
   "metadata": {},
   "source": [
    "Use the helper function to plot your result. To get the values of `w` and `b`, use the `.value` attribute. "
   ]
  },
  {
   "cell_type": "code",
   "execution_count": 6,
   "metadata": {
    "ExecuteTime": {
     "end_time": "2020-08-14T16:19:26.297535Z",
     "start_time": "2020-08-14T16:19:26.120382Z"
    }
   },
   "outputs": [],
   "source": [
    "w = w.value\n",
    "b = b.value"
   ]
  },
  {
   "cell_type": "code",
   "execution_count": 7,
   "metadata": {
    "ExecuteTime": {
     "end_time": "2020-08-14T16:19:26.567433Z",
     "start_time": "2020-08-14T16:19:26.305537Z"
    }
   },
   "outputs": [
    {
     "data": {
      "image/png": "[encoded data removed]",
      "text/plain": [
       "<Figure size 432x288 with 1 Axes>"
      ]
     },
     "metadata": {
      "needs_background": "light"
     },
     "output_type": "display_data"
    }
   ],
   "source": [
    "# Plot \n",
    "plotBoundaries(class_1, class_2, w, b)"
   ]
  },
  {
   "cell_type": "markdown",
   "metadata": {},
   "source": [
    "## A more complex problem"
   ]
  },
  {
   "cell_type": "markdown",
   "metadata": {},
   "source": [
    "Now, take a look at another problem by running the code below. This example will be a little trickier as the two classes are not perfectly linearly separable."
   ]
  },
  {
   "cell_type": "code",
   "execution_count": 8,
   "metadata": {
    "ExecuteTime": {
     "end_time": "2020-08-14T16:19:26.751327Z",
     "start_time": "2020-08-14T16:19:26.569431Z"
    }
   },
   "outputs": [
    {
     "data": {
      "image/png": "[encoded data removed]",
      "text/plain": [
       "<Figure size 360x360 with 1 Axes>"
      ]
     },
     "metadata": {
      "needs_background": "light"
     },
     "output_type": "display_data"
    }
   ],
   "source": [
    "plt.figure(figsize=(5, 5))\n",
    "\n",
    "plt.title('Two blobs')\n",
    "X, labels = make_blobs(n_features=2, centers=2, cluster_std=3,  random_state=123)\n",
    "plt.scatter(X[:, 0], X[:, 1], c=labels, s=25);"
   ]
  },
  {
   "cell_type": "markdown",
   "metadata": {},
   "source": [
    "Copy your optimization code from the Max Margin Classifier and look at the problem status. What do you see?"
   ]
  },
  {
   "cell_type": "code",
   "execution_count": 15,
   "metadata": {
    "ExecuteTime": {
     "end_time": "2020-08-14T16:21:32.084640Z",
     "start_time": "2020-08-14T16:21:31.928671Z"
    }
   },
   "outputs": [
    {
     "name": "stdout",
     "output_type": "stream",
     "text": [
      "Problem Status: infeasible\n"
     ]
    }
   ],
   "source": [
    "# Copy the optimization code from above \n",
    "class_1 = X[labels == 0]\n",
    "class_2 = X[labels == 1]\n",
    "\n",
    "d = 2  \n",
    "m = 50 \n",
    "n = 50  \n",
    "\n",
    "# Define the variables\n",
    "w = cp.Variable(d)\n",
    "b = cp.Variable()\n",
    "\n",
    "# Define the constraints\n",
    "x_constraints = [w.T @ class_1[i] + b >= 1  for i in range(m)]\n",
    "y_constraints = [w.T @ class_2[i] + b <= -1 for i in range(n)]\n",
    "\n",
    "# Sum the constraints\n",
    "constraints = x_constraints +  y_constraints \n",
    "\n",
    "# Define the objective. Hint: use cp.norm\n",
    "obj = cp.Minimize(cp.norm(w,2))\n",
    "\n",
    "# Add objective and constraint in the problem\n",
    "prob = cp.Problem(obj, constraints)\n",
    "\n",
    "# Solve the problem\n",
    "prob.solve()\n",
    "print('Problem Status: %s'%prob.status)\n"
   ]
  },
  {
   "cell_type": "markdown",
   "metadata": {},
   "source": [
    "### What's happening?"
   ]
  },
  {
   "cell_type": "markdown",
   "metadata": {},
   "source": [
    "The problem status is \"infeasible\". In other words, the problem is not linearly separable, and it is impossible to draw one straight line that separates the two classes."
   ]
  },
  {
   "cell_type": "markdown",
   "metadata": {},
   "source": [
    "## Build a Soft Margin classifier\n",
    "\n",
    "To solve this problem, you'll need to \"relax\" your constraints and allow for items that are not correctly classified. This is where the Soft Margin classifier comes in! As a refresher, this is the formulation for the Soft Margin classifier:\n",
    "\n",
    "$$ b + w_Tx^{(i)} \\geq 1-\\xi^{(i)}  \\text{     if     } y ^{(i)} = 1$$\n",
    "\n",
    "$$ b + w_Tx^{(i)} \\leq -1+\\xi^{(i)}  \\text{     if     } y ^{(i)} = -1$$\n",
    "\n",
    "\n",
    "The objective function is \n",
    "\n",
    " $$\\dfrac{1}{2}\\lVert w \\rVert^2+ C(\\sum_i \\xi^{(i)})$$\n",
    " \n",
    "Use the code for the SVM optimization again, but adjust for the slack parameters $\\xi$ (ksi or xi).\n",
    " \n",
    "Some important things to note:\n",
    "- Every $\\xi$ needs to be positive, that should be added as constraints\n",
    "- Your objective needs to be changed as well\n",
    "- Allow for a \"hyperparameter\" $C$ which you set to 1 at first and you can change accordingly. Describe how your result changes \n"
   ]
  },
  {
   "cell_type": "code",
   "execution_count": 16,
   "metadata": {
    "ExecuteTime": {
     "end_time": "2020-08-14T16:22:22.588349Z",
     "start_time": "2020-08-14T16:22:22.471412Z"
    }
   },
   "outputs": [
    {
     "data": {
      "image/png": "[encoded data removed]",
      "text/plain": [
       "<Figure size 360x360 with 1 Axes>"
      ]
     },
     "metadata": {
      "needs_background": "light"
     },
     "output_type": "display_data"
    }
   ],
   "source": [
    "plt.figure(figsize=(5, 5))\n",
    "\n",
    "plt.title('Two blobs')\n",
    "X, labels = make_blobs(n_features=2, centers=2, cluster_std=3,  random_state=123)\n",
    "plt.scatter(X[:, 0], X[:, 1], c=labels, s=25);"
   ]
  },
  {
   "cell_type": "code",
   "execution_count": 17,
   "metadata": {
    "ExecuteTime": {
     "end_time": "2020-08-14T16:22:45.227478Z",
     "start_time": "2020-08-14T16:22:45.223494Z"
    }
   },
   "outputs": [],
   "source": [
    "# Reassign the class labels\n",
    "class_1 = X[labels == 0]\n",
    "class_2 = X[labels == 1]"
   ]
  },
  {
   "cell_type": "code",
   "execution_count": 36,
   "metadata": {
    "ExecuteTime": {
     "end_time": "2020-08-14T16:44:00.269555Z",
     "start_time": "2020-08-14T16:44:00.023696Z"
    }
   },
   "outputs": [
    {
     "name": "stdout",
     "output_type": "stream",
     "text": [
      "Problem Status: optimal\n"
     ]
    }
   ],
   "source": [
    "# Define the variables\n",
    "d = 2  \n",
    "m = 50 \n",
    "n = 50  \n",
    "\n",
    "\n",
    "w = cp.Variable(d)\n",
    "b = cp.Variable()\n",
    "ksi_1 = cp.Variable(m)\n",
    "ksi_2 = cp.Variable(n)\n",
    "\n",
    "C=0.01\n",
    "# Define the constraints\n",
    "x_constraints = [w.T @ class_1[i] + b >= 1 - ksi_1[i] for i in range(m)]\n",
    "y_constraints = [w.T @ class_2[i] + b <= -1 + ksi_2[i] for i in range(n)]\n",
    "ksi_1_constraints = [ksi_1 >= 0 for i in range(m)]\n",
    "ksi_2_constraints = [ksi_2 >= 0 for i in range(n)]\n",
    "\n",
    "# Sum the constraints\n",
    "constraints = x_constraints + y_constraints + ksi_1_constraints + ksi_2_constraints\n",
    "\n",
    "# Define the objective. Hint: use cp.norm. Add in a C hyperparameter and assume 1 at first\n",
    "obj = cp.Minimize(cp.norm(w,2) + C*(sum(ksi_1) + sum(ksi_2)))\n",
    "\n",
    "# Add objective and constraint in the problem\n",
    "prob = cp.Problem(obj, constraints)\n",
    "\n",
    "# Solve the problem\n",
    "prob.solve()\n",
    "print('Problem Status: %s'%prob.status)\n"
   ]
  },
  {
   "cell_type": "markdown",
   "metadata": {},
   "source": [
    "Plot your result again."
   ]
  },
  {
   "cell_type": "code",
   "execution_count": 37,
   "metadata": {
    "ExecuteTime": {
     "end_time": "2020-08-14T16:44:01.183720Z",
     "start_time": "2020-08-14T16:44:01.078779Z"
    }
   },
   "outputs": [
    {
     "data": {
      "image/png": "[encoded data removed]",
      "text/plain": [
       "<Figure size 432x288 with 1 Axes>"
      ]
     },
     "metadata": {
      "needs_background": "light"
     },
     "output_type": "display_data"
    }
   ],
   "source": [
    "# Your code here\n",
    "w = w.value\n",
    "b = b.value\n",
    "\n",
    "plotBoundaries(class_1, class_2, w, b)"
   ]
  },
  {
   "cell_type": "markdown",
   "metadata": {},
   "source": [
    "Now go ahead and experiment with the hyperparameter $C$ (making it both larger and smaller than 1). What do you see?"
   ]
  },
  {
   "cell_type": "markdown",
   "metadata": {},
   "source": [
    "## Summary"
   ]
  },
  {
   "cell_type": "markdown",
   "metadata": {},
   "source": [
    "Great! You now understand the rationale behind support vector machines. Wouldn't it be great to have a library that did this for you? Well, you're lucky: scikit-learn has an SVM module that automates all of this. In the next lab, you'll take a look at using this pre-built SVM tool!"
   ]
  }
 ],
 "metadata": {
  "kernelspec": {
   "display_name": "Python 3",
   "language": "python",
   "name": "python3"
  },
  "language_info": {
   "codemirror_mode": {
    "name": "ipython",
    "version": 3
   },
   "file_extension": ".py",
   "mimetype": "text/x-python",
   "name": "python",
   "nbconvert_exporter": "python",
   "pygments_lexer": "ipython3",
   "version": "3.6.12"
  },
  "toc": {
   "base_numbering": 1,
   "nav_menu": {},
   "number_sections": true,
   "sideBar": true,
   "skip_h1_title": false,
   "title_cell": "Table of Contents",
   "title_sidebar": "Contents",
   "toc_cell": false,
   "toc_position": {},
   "toc_section_display": true,
   "toc_window_display": false
  },
  "varInspector": {
   "cols": {
    "lenName": 16,
    "lenType": 16,
    "lenVar": 40
   },
   "kernels_config": {
    "python": {
     "delete_cmd_postfix": "",
     "delete_cmd_prefix": "del ",
     "library": "var_list.py",
     "varRefreshCmd": "print(var_dic_list())"
    },
    "r": {
     "delete_cmd_postfix": ") ",
     "delete_cmd_prefix": "rm(",
     "library": "var_list.r",
     "varRefreshCmd": "cat(var_dic_list()) "
    }
   },
   "types_to_exclude": [
    "module",
    "function",
    "builtin_function_or_method",
    "instance",
    "_Feature"
   ],
   "window_display": false
  }
 },
 "nbformat": 4,
 "nbformat_minor": 2
}
